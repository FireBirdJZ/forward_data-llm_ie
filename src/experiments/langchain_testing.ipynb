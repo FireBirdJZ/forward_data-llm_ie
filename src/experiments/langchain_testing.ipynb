{
 "cells": [
  {
   "cell_type": "code",
   "execution_count": 80,
   "metadata": {},
   "outputs": [],
   "source": [
    "import os\n",
    "import openai\n",
    "import json\n",
    "from langchain.text_splitter import RecursiveCharacterTextSplitter\n",
    "from langchain.chat_models import ChatOpenAI\n",
    "import pprint\n",
    "\n",
    "import sys\n",
    "sys.path.append('/Users/jasonz/forward_data_lab_llmie/forward_data-llm_ie/')\n",
    "from src import web_extractor\n",
    "\n",
    "\n",
    "\n",
    "# Specify the path to config.json (adjust the path as needed)\n",
    "config_file_path = '/Users/jasonz/forward_data_lab_llmie/forward_data-llm_ie/config.json'\n",
    "\n",
    "with open(config_file_path, \"r\") as config_file:\n",
    "    config = json.load(config_file)\n",
    "    openai.api_key = config[\"api_key\"]"
   ]
  },
  {
   "cell_type": "code",
   "execution_count": 81,
   "metadata": {},
   "outputs": [],
   "source": [
    "llm = ChatOpenAI(temperature=0, openai_api_key=openai.api_key)"
   ]
  },
  {
   "cell_type": "code",
   "execution_count": 116,
   "metadata": {},
   "outputs": [],
   "source": [
    "url = \"https://www.shopify.com/blog/ecommerce-seo-beginners-guide\"\n",
    "webpage_text = web_extractor.ExtractTextFromWebpage(url)\n",
    "\n",
    "# Initialize the RecursiveCharacterTextSplitter\n",
    "text_splitter = RecursiveCharacterTextSplitter.from_tiktoken_encoder(chunk_size =1000, chunk_overlap = 0)\n",
    "\n",
    "# Split the text\n",
    "split_text = text_splitter.split_text(webpage_text)\n",
    "\n",
    "# Print the resulting pieces\n",
    "# for piece in split_text:\n",
    "#     print(piece)"
   ]
  },
  {
   "cell_type": "code",
   "execution_count": 88,
   "metadata": {},
   "outputs": [],
   "source": [
    "from langchain.chains import create_extraction_chain\n",
    "\n",
    "schema = {\n",
    "    \"properties\": {\n",
    "        \"blog_article_title\": {\"type\": \"string\"},\n",
    "        \"blog_article_summary\": {\"type\": \"string\"},\n",
    "        \"blog_article_steps\": {\"type\": \"string\"},\n",
    "    },\n",
    "    \"required\": [\"blog_article_title\", \"blog_article_summary\", \"blog_article_steps\"],\n",
    "}\n",
    "\n",
    "def extract(content: str, schema: dict):\n",
    "    return create_extraction_chain(schema=schema, llm=llm).run(content)"
   ]
  },
  {
   "cell_type": "code",
   "execution_count": 105,
   "metadata": {},
   "outputs": [
    {
     "name": "stdout",
     "output_type": "stream",
     "text": [
      "[{'blog_article_steps': 'ShopifySolutionsStartStart your businessBuild your '\n",
      "                        'brandCreate your websiteOnline store editorCustomize '\n",
      "                        'your storeStore themesFind business appsShopify app '\n",
      "                        'storeOwn your site domainDomains & hostingExplore '\n",
      "                        'free business toolsTools to run your businessSellSell '\n",
      "                        'your productsSell online or in personCheck out '\n",
      "                        'customersWorld-class checkoutSell onlineGrow your '\n",
      "                        'business onlineSell across channelsReach millions of '\n",
      "                        'shoppers and boost',\n",
      "  'blog_article_summary': 'Email address Create your store Build your dream '\n",
      "                          'business for $1/month Start your free trial, then '\n",
      "                          'enjoy 3 months of Shopify for $1/month when you '\n",
      "                          'sign up for a monthly Basic or Starter plan. Sign '\n",
      "                          'up for a free trial Select a monthly Basic or '\n",
      "                          'Starter plan $1/month pricing will be applied at '\n",
      "                          'checkout Add products, launch your store, and start '\n",
      "                          'selling! Start a free trial and enjoy 3 months of '\n",
      "                          'Shopify for $1/month on select plans. Sign up now',\n",
      "  'blog_article_title': \"Ecommerce SEO: The Ultimate Beginner's Guide (2023)\"}]\n"
     ]
    }
   ],
   "source": [
    "# Process the first split \n",
    "extracted_content = extract(\n",
    "        schema=schema, content=split_text[0]\n",
    "    )\n",
    "pprint.pprint(extracted_content)"
   ]
  },
  {
   "cell_type": "markdown",
   "metadata": {},
   "source": [
    "MultiQueryRetriver:"
   ]
  },
  {
   "cell_type": "code",
   "execution_count": 115,
   "metadata": {},
   "outputs": [],
   "source": [
    "# Build a sample vectorDB\n",
    "from langchain.vectorstores import Chroma\n",
    "from langchain.document_loaders import WebBaseLoader\n",
    "from langchain.embeddings.openai import OpenAIEmbeddings\n",
    "from langchain.text_splitter import RecursiveCharacterTextSplitter\n",
    "\n",
    "\n",
    "\n",
    "# Load blog post\n",
    "loader = WebBaseLoader(\"https://lilianweng.github.io/posts/2023-06-23-agent/\")\n",
    "data = loader.load()\n",
    "\n",
    "# Split\n",
    "text_splitter = RecursiveCharacterTextSplitter(chunk_size=500, chunk_overlap=0)\n",
    "splits = text_splitter.split_documents(data)\n",
    "\n",
    "# VectorDB\n",
    "embedding = OpenAIEmbeddings(openai_api_key=openai.api_key)\n",
    "#vectordb = Chroma.from_documents(documents=splits, embedding=embedding)"
   ]
  },
  {
   "cell_type": "code",
   "execution_count": 112,
   "metadata": {},
   "outputs": [
    {
     "name": "stderr",
     "output_type": "stream",
     "text": [
      "/Users/jasonz/mambaforge/envs/forward_llm_env/lib/python3.11/site-packages/langchain/llms/openai.py:787: UserWarning: You are trying to use a chat model. This way of initializing it is no longer supported. Instead, please use: `from langchain.chat_models import ChatOpenAI`\n",
      "  warnings.warn(\n"
     ]
    }
   ],
   "source": [
    "from typing import List\n",
    "\n",
    "from langchain.llms import OpenAI\n",
    "from langchain.output_parsers import PydanticOutputParser\n",
    "from langchain.prompts import PromptTemplate\n",
    "from langchain.pydantic_v1 import BaseModel, Field, validator\n",
    "\n",
    "model_name = \"gpt-3.5-turbo\"\n",
    "temperature = 0.0\n",
    "model = OpenAI(model_name=model_name, temperature=temperature, openai_api_key=openai.api_key)"
   ]
  },
  {
   "cell_type": "code",
   "execution_count": 117,
   "metadata": {},
   "outputs": [
    {
     "data": {
      "text/plain": [
       "ShopifyBlog(name=\"Ecommerce SEO: The Ultimate Beginner's Guide (2023)\", article_steps=['Email address', 'Create your store', 'Build your dream business for $1/month', 'Start your free trial, then enjoy 3 months of Shopify for $1/month when you sign up for a monthly Basic or Starter plan.', 'Sign up for a free trial', 'Select a monthly Basic or Starter plan', '$1/month pricing will be applied at checkout', 'Add products, launch your store, and start selling!', 'Start a free trial and enjoy 3 months of Shopify for $1/month on select plans.', 'Sign up now', \"ShopifySolutionsStartStart your businessBuild your brandCreate your websiteOnline store editorCustomize your storeStore themesFind business appsShopify app storeOwn your site domainDomains & hostingExplore free business toolsTools to run your businessSellSell your productsSell online or in personCheck out customersWorld-class checkoutSell onlineGrow your business onlineSell across channelsReach millions of shoppers and boost salesSell in personPoint of Sale (POS)Sell globallyInternational salesSell wholesale & directBusiness-to-business (B2B)Accept online paymentsSet up forms of paymentMarketMarket your businessReach & retain customersMarket across socialSocial media integrationsChat with customersShopify InboxNurture customersShopify EmailKnow your audienceGain customer insightsManageManage your businessTrack sales, orders & analyticsMeasure your performanceAnalytics and ReportingShip orders fasterShopify ShippingManage your stock & ordersInventory & order managementOutsource fulfillment & returnsShopify Fulfillment NetworkGet paid fasterShopify BalanceSecure business fundingShopify CapitalAutomate your businessShopify FlowShopify DevelopersBuild with Shopify's powerful APIsPlusA commerce solution for growing digital brandsEnterpriseThe composable stack for enterprise retailAll ProductsExplore all Shopify products & featuresPricingResourcesHelp and supportHelp and supportGet 24/7 supportHow-to guidesRead in-depth business guidesBusiness CoursesLearn from proven expertsShopify blogBusiness strategy tipsPopular topicsWhat is Shopify?How our commerce platform worksShopify EditionsNew, innovative Shopify productsFounder StoriesLearn from successful merchantsBrandingBuild your brand from scratchMarketingBuild a marketing planEcommerce SEOImprove your search rankingSocial media strategyTurn social into salesBusiness growthScale your businessEssential toolsBusiness name generatorLogo makerStock photographyBusiness Plan TemplateLink in bio toolQR code generatorLog inStart free trialStart free trialShopifyStart free trialSolutionsStartStart your businessBuild your brandCreate your websiteOnline store editorCustomize your storeStore themesFind business appsShopify app storeOwn your site domainDomains & hostingExplore free business toolsTools to run your businessSellSell your productsSell online or in personCheck out customersWorld-class checkoutSell onlineGrow your business onlineSell across channelsReach millions of shoppers and boost salesSell in personPoint of Sale (POS)Sell globallyInternational salesSell wholesale & directBusiness-to-business (B2B)Accept online paymentsSet up forms of paymentMarketMarket your businessReach & retain customersMarket across socialSocial media integrationsChat with customersShopify InboxNurture customersShopify EmailKnow your audienceGain customer insightsManageManage your businessTrack sales, orders & analyticsMeasure your performanceAnalytics and ReportingShip orders fasterShopify ShippingManage your stock & ordersInventory & order managementOutsource fulfillment & returnsShopify Fulfillment NetworkGet paid fasterShopify BalanceSecure business fundingShopify CapitalAutomate your businessShopify FlowShopify DevelopersBuild with Shopify's powerful APIsPlusA commerce solution for growing digital brandsEnterpriseThe composable stack for enterprise retailAll ProductsExplore all Shopify products & featuresPricingResourcesHelp and supportHelp and supportGet 24/7 supportHow-to guidesRead in-depth business guidesBusiness\"])"
      ]
     },
     "execution_count": 117,
     "metadata": {},
     "output_type": "execute_result"
    }
   ],
   "source": [
    "# Here's another example, but with a compound typed field.\n",
    "class ShopifyBlog(BaseModel):\n",
    "    name: str = Field(description=\"Article Title\")\n",
    "    article_steps: List[str] = Field(description=\"Extract the steps shown in the blog on How to create an ecommerce SEO strategy\")\n",
    "\n",
    "\n",
    "actor_query = split_text[0]\n",
    "\n",
    "parser = PydanticOutputParser(pydantic_object=ShopifyBlog)\n",
    "\n",
    "prompt = PromptTemplate(\n",
    "    template=\"Answer the user query.\\n{format_instructions}\\n{query}\\n\",\n",
    "    input_variables=[\"query\"],\n",
    "    partial_variables={\"format_instructions\": parser.get_format_instructions()},\n",
    ")\n",
    "\n",
    "_input = prompt.format_prompt(query=actor_query)\n",
    "\n",
    "output = model(_input.to_string())\n",
    "\n",
    "parser.parse(output)"
   ]
  },
  {
   "cell_type": "markdown",
   "metadata": {},
   "source": [
    "Map Reduce to split page text than summarize each piece of text, and then after summaize them altogether"
   ]
  },
  {
   "cell_type": "code",
   "execution_count": 139,
   "metadata": {},
   "outputs": [],
   "source": [
    "from langchain.chains.llm import LLMChain\n",
    "from langchain.prompts import PromptTemplate\n",
    "from langchain.chains.combine_documents.stuff import StuffDocumentsChain\n",
    "from langchain.chains.mapreduce import MapReduceChain\n",
    "from langchain.text_splitter import CharacterTextSplitter\n",
    "from langchain.chains import ReduceDocumentsChain, MapReduceDocumentsChain\n",
    "\n",
    "llm = ChatOpenAI(temperature=0, openai_api_key=openai.api_key)\n",
    "\n",
    "# Map\n",
    "map_template = \"\"\"The following is a set of documents\n",
    "{docs}\n",
    "Based on this list of docs, please identify the main themes \n",
    "Helpful Answer:\"\"\"\n",
    "map_prompt = PromptTemplate.from_template(map_template)\n",
    "map_chain = LLMChain(llm=llm, prompt=map_prompt)\n",
    "loader = WebBaseLoader(\"https://www.shopify.com/blog/ecommerce-seo-beginners-guide\")\n",
    "docs = loader.load()"
   ]
  },
  {
   "cell_type": "code",
   "execution_count": 140,
   "metadata": {},
   "outputs": [],
   "source": [
    "from langchain import hub\n",
    "map_prompt = hub.pull(\"rlm/map-prompt\")\n",
    "map_chain = LLMChain(llm=llm, prompt=map_prompt)"
   ]
  },
  {
   "cell_type": "code",
   "execution_count": 141,
   "metadata": {},
   "outputs": [],
   "source": [
    "# Reduce\n",
    "reduce_template = \"\"\"The following is set of summaries:\n",
    "{doc_summaries}\n",
    "Take these and distill it into a final, consolidated summary of the main themes. \n",
    "Helpful Answer:\"\"\"\n",
    "reduce_prompt = PromptTemplate.from_template(reduce_template)"
   ]
  },
  {
   "cell_type": "code",
   "execution_count": 142,
   "metadata": {},
   "outputs": [],
   "source": [
    "# Note we can also get this from the prompt hub, as noted above\n",
    "reduce_prompt = hub.pull(\"rlm/map-prompt\")"
   ]
  },
  {
   "cell_type": "code",
   "execution_count": 143,
   "metadata": {},
   "outputs": [],
   "source": [
    "# Run chain\n",
    "reduce_chain = LLMChain(llm=llm, prompt=reduce_prompt)\n",
    "\n",
    "# Takes a list of documents, combines them into a single string, and passes this to an LLMChain\n",
    "combine_documents_chain = StuffDocumentsChain(\n",
    "    llm_chain=reduce_chain, document_variable_name=\"docs\"\n",
    ")\n",
    "\n",
    "# Combines and iteravely reduces the mapped documents\n",
    "reduce_documents_chain = ReduceDocumentsChain(\n",
    "    # This is final chain that is called.\n",
    "    combine_documents_chain=combine_documents_chain,\n",
    "    # If documents exceed context for `StuffDocumentsChain`\n",
    "    collapse_documents_chain=combine_documents_chain,\n",
    "    # The maximum number of tokens to group documents into.\n",
    "    token_max=4000,\n",
    ")"
   ]
  },
  {
   "cell_type": "code",
   "execution_count": 144,
   "metadata": {},
   "outputs": [
    {
     "name": "stderr",
     "output_type": "stream",
     "text": [
      "Created a chunk of size 1195, which is longer than the specified 1000\n"
     ]
    }
   ],
   "source": [
    "# Combining documents by mapping a chain over them, then combining results\n",
    "map_reduce_chain = MapReduceDocumentsChain(\n",
    "    # Map chain\n",
    "    llm_chain=map_chain,\n",
    "    # Reduce chain\n",
    "    reduce_documents_chain=reduce_documents_chain,\n",
    "    # The variable name in the llm_chain to put the documents in\n",
    "    document_variable_name=\"docs\",\n",
    "    # Return the results of the map steps in the output\n",
    "    return_intermediate_steps=False,\n",
    ")\n",
    "\n",
    "text_splitter = CharacterTextSplitter.from_tiktoken_encoder(\n",
    "    chunk_size=1000, chunk_overlap=0\n",
    ")\n",
    "split_docs = text_splitter.split_documents(docs)"
   ]
  },
  {
   "cell_type": "code",
   "execution_count": 148,
   "metadata": {},
   "outputs": [
    {
     "name": "stdout",
     "output_type": "stream",
     "text": [
      "Based on the list of documents provided, the main themes can be identified as follows:\n",
      "\n",
      "1. Ecommerce SEO: The Ultimate Beginner's Guide (2023)\n",
      "2. Create your store\n",
      "3. Build your dream business for $1/month\n",
      "4. Start a free trial and enjoy 3 months of Shopify for $1/month on select plans.\n",
      "\n",
      "The main themes in these documents are:\n",
      "\n",
      "1. Starting a business: \"Start your business\", \"Build your brand\", \"Create your website\", \"Customize your store\", \"Find business apps\", \"Own your site domain\", \"Explore free business tools\", \"Tools to run your business\"\n",
      "2. Selling products: \"Sell your products\", \"Sell online or in person\", \"Check out customers\", \"World-class checkout\", \"Sell online\", \"Grow your business online\", \"Sell across channels\", \"Reach millions of shoppers and boost sales\", \"Sell in person\", \"Point of Sale (POS)\", \"Sell globally\", \"International sales\", \"Sell wholesale & direct\", \"Business-to-business (B2B)\", \"Accept online payments\", \"Set up forms of payment\"\n",
      "3. Marketing and promoting the business: \"Market your business\", \"Reach & retain customers\", \"Market across social\", \"Social media integrations\", \"Chat with customers\", \"Nurture customers\", \"Know your audience\", \"Gain customer insights\"\n",
      "4. Managing the business: \"Manage your business\", \"Track sales, orders & analytics\", \"Measure your performance\", \"Analytics and Reporting\", \"Ship orders faster\", \"Manage your stock & orders\", \"Inventory & order management\", \"Outsource fulfillment & returns\", \"Get paid faster\", \"Secure business funding\", \"Automate your business\"\n",
      "5. Shopify products and features: \"Explore all Shopify products & features\", \"Shopify Editions\", \"New, innovative Shopify products\"\n",
      "6. Business growth and scaling: \"Scale your business\", \"Essential tools\", \"Business name generator\", \"Logo maker\", \"Stock photography\", \"Business Plan Template\", \"Link in bio tool\", \"QR code generator\"\n",
      "7. Help and support: \"Get 24/7 support\", \"How-to guides\", \"Read in-depth business guides\", \"Business Courses\", \"Learn from proven experts\", \"Shopify blog\", \"Business strategy tips\"\n",
      "8. Shopify as a platform: \"What is Shopify?\", \"How our commerce platform works\", \"Founder Stories\"\n",
      "9. Branding and marketing strategies: \"Build your brand from scratch\", \"Build a marketing plan\", \"Ecommerce SEO\", \"Improve your search ranking\", \"Social media strategy\", \"Turn social into sales\"\n",
      "10. Shopify resources and tools: \"Help and support\", \"How-to guides\", \"Read in-depth business guides\", \"Business Courses\", \"Learn from proven experts\", \"Shopify blog\", \"Business strategy tips\", \"Popular topics\"\n",
      "11. International presence: Various country-specific options are mentioned, such as USA, Australia, Belgium, Brasil, Canada, Colombia, Danmark, Deutschland, España, France, Hong Kong SAR, India, Indonesia, Ireland, Italia, Malaysia, México, Nederland, New Zealand, Nigeria, Norway, Philippines, Singapore, South Africa, Sverige, United Kingdom, Việt Nam, 대한민국, 中国, 中國香港特別行政區, 台灣, and 日本.\n"
     ]
    }
   ],
   "source": [
    "map_reduce_output = map_reduce_chain.run(split_docs)\n",
    "print(map_reduce_output)"
   ]
  },
  {
   "cell_type": "code",
   "execution_count": 150,
   "metadata": {},
   "outputs": [
    {
     "ename": "OutputParserException",
     "evalue": "Failed to parse ShopifyBlog from completion {\"name\": \"Ecommerce SEO: The Ultimate Beginner's Guide (2023)\", \"article_main_idea\": \"Ecommerce SEO\", \"article_steps\": [\"Build your brand\", \"Create your website\", \"Customize your store\", \"Find business apps\", \"Own your site domain\", \"Explore free business tools\", \"Tools to run your business\", \"Sell your products\", \"Sell online or in person\", \"Check out customers\", \"World-class checkout\", \"Sell online\", \"Grow your business online\", \"Sell across channels\", \"Reach millions of shoppers and boost sales\", \"Sell in person\", \"Point of Sale (POS)\", \"Sell globally\", \"International sales\", \"Sell wholesale & direct\", \"Business-to-business (B2B)\", \"Accept online payments\", \"Set up forms of payment\", \"Market your business\", \"Reach & retain customers\", \"Market across social\", \"Social media integrations\", \"Chat with customers\", \"Nurture customers\", \"Know your audience\", \"Gain customer insights\", \"Manage your business\", \"Track sales, orders & analytics\", \"Measure your performance\", \"Analytics and Reporting\", \"Ship orders faster\", \"Manage your stock & orders\", \"Inventory & order management\", \"Outsource fulfillment & returns\", \"Get paid faster\", \"Secure business funding\", \"Automate your business\", \"Explore all Shopify products & features\", \"Shopify Editions\", \"New, innovative Shopify products\", \"Scale your business\", \"Essential tools\", \"Business name generator\", \"Logo maker\", \"Stock photography\", \"Business Plan Template\", \"Link in bio tool\", \"QR code generator\", \"Get 24/7 support\", \"How-to guides\", \"Read in-depth business guides\", \"Business Courses\", \"Learn from proven experts\", \"Shopify blog\", \"Business strategy tips\", \"What is Shopify?\", \"How our commerce platform works\", \"Founder Stories\", \"Build your brand from scratch\", \"Build a marketing plan\", \"Ecommerce SEO\", \"Improve your search ranking\", \"Social media strategy\", \"Turn social into sales\", \"Help and support\", \"How-to guides\", \"Read in-depth business guides\", \"Business Courses\", \"Learn from proven experts\", \"Shopify blog\", \"Business strategy tips\", \"Popular topics\", \"USA\", \"Australia\", \"Belgium\", \"Brasil\", \"Canada\", \"Colombia\", \"Danmark\", \"Deutschland\", \"España\", \"France\", \"Hong Kong SAR\", \"India\", \"Indonesia\", \"Ireland\", \"Italia\", \"Malaysia\", \"México\", \"Nederland\", \"New Zealand\", \"Nigeria\", \"Norway\", \"Philippines\", \"Singapore\", \"South Africa\", \"Sverige\", \"United Kingdom\", \"Việt Nam\", \"대한민국\", \"中国\", \"中國香港特別行政區\", \"台灣\", \"日本\"]}\n\n{\"name\": \"Create your store\", \"article_main_idea\": \"Starting a business\", \"article_steps\": [\"Start your business\", \"Build your brand\", \"Create your website\", \"Customize your store\", \"Find business apps\", \"Own your site domain\", \"Explore free business tools\", \"Tools to run your business\", \"Sell your products\", \"Sell online or in person\", \"Check out customers\", \"World-class checkout\", \"Sell online\", \"Grow your business online\", \"Sell across channels\", \"Reach millions of shoppers and boost sales\", \"Sell in person\", \"Point of Sale (POS)\", \"Sell globally\", \"International sales\", \"Sell wholesale & direct\", \"Business-to-business (B2B)\", \"Accept online payments\", \"Set up forms of payment\", \"Market your business\", \"Reach & retain customers\", \"Market across social\", \"Social media integrations\", \"Chat with customers\", \"Nurture customers\", \"Know your audience\", \"Gain customer insights\", \"Manage your business\", \"Track sales, orders & analytics\", \"Measure your performance\", \"Analytics and Reporting\", \"Ship orders faster\", \"Manage your stock & orders\", \"Inventory & order management\", \"Outsource fulfillment & returns\", \"Get paid faster\", \"Secure business funding\", \"Automate your business\", \"Explore all Shopify products & features\", \"Shopify Editions\", \"New, innovative Shopify products\", \"Scale your business\", \"Essential tools\", \"Business name generator\", \"Logo maker\", \"Stock photography\", \"Business Plan Template\", \"Link in bio tool\", \"QR code generator\", \"Get 24/7 support\", \"How-to guides\", \"Read in-depth business guides\", \"Business Courses\", \"Learn from proven experts\", \"Shopify blog\", \"Business strategy tips\", \"What is Shopify?\", \"How our commerce platform works\", \"Founder Stories\", \"Build your brand from scratch\", \"Build a marketing plan\", \"Ecommerce SEO\", \"Improve your search ranking\", \"Social media strategy\", \"Turn social into sales\", \"Help and support\", \"How-to guides\", \"Read in-depth business guides\", \"Business Courses\", \"Learn from proven experts\", \"Shopify blog\", \"Business strategy tips\", \"Popular topics\", \"USA\", \"Australia\", \"Belgium\", \"Brasil\", \"Canada\", \"Colombia\", \"Danmark\", \"Deutschland\", \"España\", \"France\", \"Hong Kong SAR\", \"India\", \"Indonesia\", \"Ireland\", \"Italia\", \"Malaysia\", \"México\", \"Nederland\", \"New Zealand\", \"Nigeria\", \"Norway\", \"Philippines\", \"Singapore\", \"South Africa\", \"Sverige\", \"United Kingdom\", \"Việt Nam\", \"대한민국\", \"中国\", \"中國香港特別行政區\", \"台灣\", \"日本\"]}\n\n{\"name\": \"Build your dream business for $1/month\", \"article_main_idea\": \"Starting a business\", \"article_steps\": [\"Start your business\", \"Build your brand\", \"Create your website\", \"Customize your store\", \"Find business apps\", \"Own your site domain\", \"Explore free business tools\", \"Tools to run your business\", \"Sell your products\", \"Sell online or in person\", \"Check out customers\", \"World-class checkout\", \"Sell online\", \"Grow your business online\", \"Sell across channels\", \"Reach millions of shoppers and boost sales\", \"Sell in person\", \"Point of Sale (POS)\", \"Sell globally\", \"International sales\", \"Sell wholesale & direct\", \"Business-to-business (B2B)\", \"Accept online payments\", \"Set up forms of payment\", \"Market your business\", \"Reach & retain customers\", \"Market across social\", \"Social media integrations\", \"Chat with customers\", \"Nurture customers\", \"Know your audience\", \"Gain customer insights\", \"Manage your business\", \"Track sales, orders & analytics\", \"Measure your performance\", \"Analytics and Reporting\", \"Ship orders faster\", \"Manage your stock & orders\", \"Inventory & order management\", \"Outsource fulfillment & returns\", \"Get paid faster\", \"Secure business funding\", \"Automate your business\", \"Explore all Shopify products & features\", \"Shopify Editions\", \"New, innovative Shopify products\", \"Scale your business\", \"Essential tools\", \"Business name generator\", \"Logo maker\", \"Stock photography\", \"Business Plan Template\", \"Link in bio tool\", \"QR code generator\", \"Get 24/7 support\", \"How-to guides\", \"Read in-depth business guides\", \"Business Courses\", \"Learn from proven experts\", \"Shopify blog\", \"Business strategy tips\", \"What is Shopify?\", \"How our commerce platform works\", \"Founder Stories\", \"Build your brand from scratch\", \"Build a marketing plan\", \"Ecommerce SEO\", \"Improve your search ranking\", \"Social media strategy\", \"Turn social into sales\", \"Help and support\", \"How-to guides\", \"Read in-depth business guides\", \"Business Courses\", \"Learn from proven experts\", \"Shopify blog\", \"Business strategy tips\", \"Popular topics\", \"USA\", \"Australia\", \"Belgium\", \"Brasil\", \"Canada\", \"Colombia\", \"Danmark\", \"Deutschland\", \"España\", \"France\", \"Hong Kong SAR\", \"India\", \"Indonesia\", \"Ireland\", \"Italia\", \"Malaysia\", \"México\", \"Nederland\", \"New Zealand\", \"Nigeria\", \"Norway\", \"Philippines\", \"Singapore\", \"South Africa\", \"Sverige\", \"United Kingdom\", \"Việt Nam\", \"대한민국\", \"中国\", \"中國香港特別行政區\", \"台灣\", \"日本\"]}\n\n{\"name\": \"Start a free trial and enjoy 3 months of Shopify for $1/month on select plans\", \"article_main_idea\": \"Starting a business\", \"article_steps\": [\"Start your business\", \"Build your brand\", \"Create your website\", \"Customize your store\", \"Find business apps\", \"Own your site domain\", \"Explore free business tools\", \"Tools to run your business\", \"Sell your products\", \"Sell online or in person\", \"Check out customers\", \"World-class checkout\", \"Sell online\", \"Grow your business online\", \"Sell across channels\", \"Reach millions of shoppers and boost sales\", \"Sell in person\", \"Point of Sale (POS)\", \"Sell globally\", \"International sales\", \"Sell wholesale & direct\", \"Business-to-business (B2B)\", \"Accept online payments\", \"Set up forms of payment\", \"Market your business\", \"Reach & retain customers\", \"Market across social\", \"Social media integrations\", \"Chat with customers\", \"Nurture customers\", \"Know your audience\", \"Gain customer insights\", \"Manage your business\", \"Track sales, orders & analytics\", \"Measure your performance\", \"Analytics and Reporting\", \"Ship orders faster\", \"Manage your stock & orders\", \"Inventory & order management\", \"Outsource fulfillment & returns\", \"Get paid faster\", \"Secure business funding\", \"Automate your business\", \"Explore all Shopify products & features\", \"Shopify Editions\", \"New, innovative Shopify products\", \"Scale your business\", \"Essential tools\", \"Business name generator\", \"Logo maker\", \"Stock photography\", \"Business Plan Template\", \"Link in bio tool\", \"QR code generator\", \"Get 24/7 support\", \"How-to guides\", \"Read in-depth business guides\", \"Business Courses\", \"Learn from proven experts\", \"Shopify blog\", \"Business strategy tips\", \"What is Shopify?\", \"How our commerce platform works\", \"Founder Stories\", \"Build your brand from scratch\", \"Build a marketing plan\", \"Ecommerce SEO\", \"Improve your search ranking\", \"Social media strategy\", \"Turn social into sales\", \"Help and support\", \"How-to guides\", \"Read in-depth business guides\", \"Business Courses\", \"Learn from proven experts\", \"Shopify blog\", \"Business strategy tips\", \"Popular topics\", \"USA\", \"Australia\", \"Belgium\", \"Brasil\", \"Canada\", \"Colombia\", \"Danmark\", \"Deutschland\", \"España\", \"France\", \"Hong Kong SAR\", \"India\", \"Indonesia\", \"Ireland\", \"Italia\", \"Malaysia\", \"México\", \"Nederland\", \"New Zealand\", \"Nigeria\", \"Norway\", \"Philippines\", \"Singapore\", \"South Africa\", \"Sverige\", \"United Kingdom\", \"Việt Nam\", \"대한민국\", \"中国\", \"中國香港特別行政區\", \"台灣\", \"日本\"]}. Got: Extra data: line 3 column 1 (char 2406)",
     "output_type": "error",
     "traceback": [
      "\u001b[0;31m---------------------------------------------------------------------------\u001b[0m",
      "\u001b[0;31mJSONDecodeError\u001b[0m                           Traceback (most recent call last)",
      "File \u001b[0;32m~/mambaforge/envs/forward_llm_env/lib/python3.11/site-packages/langchain/output_parsers/pydantic.py:27\u001b[0m, in \u001b[0;36mPydanticOutputParser.parse\u001b[0;34m(self, text)\u001b[0m\n\u001b[1;32m     26\u001b[0m     json_str \u001b[39m=\u001b[39m match\u001b[39m.\u001b[39mgroup()\n\u001b[0;32m---> 27\u001b[0m json_object \u001b[39m=\u001b[39m json\u001b[39m.\u001b[39;49mloads(json_str, strict\u001b[39m=\u001b[39;49m\u001b[39mFalse\u001b[39;49;00m)\n\u001b[1;32m     28\u001b[0m \u001b[39mreturn\u001b[39;00m \u001b[39mself\u001b[39m\u001b[39m.\u001b[39mpydantic_object\u001b[39m.\u001b[39mparse_obj(json_object)\n",
      "File \u001b[0;32m~/mambaforge/envs/forward_llm_env/lib/python3.11/json/__init__.py:359\u001b[0m, in \u001b[0;36mloads\u001b[0;34m(s, cls, object_hook, parse_float, parse_int, parse_constant, object_pairs_hook, **kw)\u001b[0m\n\u001b[1;32m    358\u001b[0m     kw[\u001b[39m'\u001b[39m\u001b[39mparse_constant\u001b[39m\u001b[39m'\u001b[39m] \u001b[39m=\u001b[39m parse_constant\n\u001b[0;32m--> 359\u001b[0m \u001b[39mreturn\u001b[39;00m \u001b[39mcls\u001b[39;49m(\u001b[39m*\u001b[39;49m\u001b[39m*\u001b[39;49mkw)\u001b[39m.\u001b[39;49mdecode(s)\n",
      "File \u001b[0;32m~/mambaforge/envs/forward_llm_env/lib/python3.11/json/decoder.py:340\u001b[0m, in \u001b[0;36mJSONDecoder.decode\u001b[0;34m(self, s, _w)\u001b[0m\n\u001b[1;32m    339\u001b[0m \u001b[39mif\u001b[39;00m end \u001b[39m!=\u001b[39m \u001b[39mlen\u001b[39m(s):\n\u001b[0;32m--> 340\u001b[0m     \u001b[39mraise\u001b[39;00m JSONDecodeError(\u001b[39m\"\u001b[39m\u001b[39mExtra data\u001b[39m\u001b[39m\"\u001b[39m, s, end)\n\u001b[1;32m    341\u001b[0m \u001b[39mreturn\u001b[39;00m obj\n",
      "\u001b[0;31mJSONDecodeError\u001b[0m: Extra data: line 3 column 1 (char 2406)",
      "\nDuring handling of the above exception, another exception occurred:\n",
      "\u001b[0;31mOutputParserException\u001b[0m                     Traceback (most recent call last)",
      "Cell \u001b[0;32mIn[150], line 22\u001b[0m\n\u001b[1;32m     18\u001b[0m _input \u001b[38;5;241m=\u001b[39m prompt\u001b[38;5;241m.\u001b[39mformat_prompt(query\u001b[38;5;241m=\u001b[39mactor_query)\n\u001b[1;32m     20\u001b[0m output \u001b[38;5;241m=\u001b[39m model(_input\u001b[38;5;241m.\u001b[39mto_string())\n\u001b[0;32m---> 22\u001b[0m \u001b[43mparser\u001b[49m\u001b[38;5;241;43m.\u001b[39;49m\u001b[43mparse\u001b[49m\u001b[43m(\u001b[49m\u001b[43moutput\u001b[49m\u001b[43m)\u001b[49m\n",
      "File \u001b[0;32m~/mambaforge/envs/forward_llm_env/lib/python3.11/site-packages/langchain/output_parsers/pydantic.py:33\u001b[0m, in \u001b[0;36mPydanticOutputParser.parse\u001b[0;34m(self, text)\u001b[0m\n\u001b[1;32m     31\u001b[0m name \u001b[39m=\u001b[39m \u001b[39mself\u001b[39m\u001b[39m.\u001b[39mpydantic_object\u001b[39m.\u001b[39m\u001b[39m__name__\u001b[39m\n\u001b[1;32m     32\u001b[0m msg \u001b[39m=\u001b[39m \u001b[39mf\u001b[39m\u001b[39m\"\u001b[39m\u001b[39mFailed to parse \u001b[39m\u001b[39m{\u001b[39;00mname\u001b[39m}\u001b[39;00m\u001b[39m from completion \u001b[39m\u001b[39m{\u001b[39;00mtext\u001b[39m}\u001b[39;00m\u001b[39m. Got: \u001b[39m\u001b[39m{\u001b[39;00me\u001b[39m}\u001b[39;00m\u001b[39m\"\u001b[39m\n\u001b[0;32m---> 33\u001b[0m \u001b[39mraise\u001b[39;00m OutputParserException(msg, llm_output\u001b[39m=\u001b[39mtext)\n",
      "\u001b[0;31mOutputParserException\u001b[0m: Failed to parse ShopifyBlog from completion {\"name\": \"Ecommerce SEO: The Ultimate Beginner's Guide (2023)\", \"article_main_idea\": \"Ecommerce SEO\", \"article_steps\": [\"Build your brand\", \"Create your website\", \"Customize your store\", \"Find business apps\", \"Own your site domain\", \"Explore free business tools\", \"Tools to run your business\", \"Sell your products\", \"Sell online or in person\", \"Check out customers\", \"World-class checkout\", \"Sell online\", \"Grow your business online\", \"Sell across channels\", \"Reach millions of shoppers and boost sales\", \"Sell in person\", \"Point of Sale (POS)\", \"Sell globally\", \"International sales\", \"Sell wholesale & direct\", \"Business-to-business (B2B)\", \"Accept online payments\", \"Set up forms of payment\", \"Market your business\", \"Reach & retain customers\", \"Market across social\", \"Social media integrations\", \"Chat with customers\", \"Nurture customers\", \"Know your audience\", \"Gain customer insights\", \"Manage your business\", \"Track sales, orders & analytics\", \"Measure your performance\", \"Analytics and Reporting\", \"Ship orders faster\", \"Manage your stock & orders\", \"Inventory & order management\", \"Outsource fulfillment & returns\", \"Get paid faster\", \"Secure business funding\", \"Automate your business\", \"Explore all Shopify products & features\", \"Shopify Editions\", \"New, innovative Shopify products\", \"Scale your business\", \"Essential tools\", \"Business name generator\", \"Logo maker\", \"Stock photography\", \"Business Plan Template\", \"Link in bio tool\", \"QR code generator\", \"Get 24/7 support\", \"How-to guides\", \"Read in-depth business guides\", \"Business Courses\", \"Learn from proven experts\", \"Shopify blog\", \"Business strategy tips\", \"What is Shopify?\", \"How our commerce platform works\", \"Founder Stories\", \"Build your brand from scratch\", \"Build a marketing plan\", \"Ecommerce SEO\", \"Improve your search ranking\", \"Social media strategy\", \"Turn social into sales\", \"Help and support\", \"How-to guides\", \"Read in-depth business guides\", \"Business Courses\", \"Learn from proven experts\", \"Shopify blog\", \"Business strategy tips\", \"Popular topics\", \"USA\", \"Australia\", \"Belgium\", \"Brasil\", \"Canada\", \"Colombia\", \"Danmark\", \"Deutschland\", \"España\", \"France\", \"Hong Kong SAR\", \"India\", \"Indonesia\", \"Ireland\", \"Italia\", \"Malaysia\", \"México\", \"Nederland\", \"New Zealand\", \"Nigeria\", \"Norway\", \"Philippines\", \"Singapore\", \"South Africa\", \"Sverige\", \"United Kingdom\", \"Việt Nam\", \"대한민국\", \"中国\", \"中國香港特別行政區\", \"台灣\", \"日本\"]}\n\n{\"name\": \"Create your store\", \"article_main_idea\": \"Starting a business\", \"article_steps\": [\"Start your business\", \"Build your brand\", \"Create your website\", \"Customize your store\", \"Find business apps\", \"Own your site domain\", \"Explore free business tools\", \"Tools to run your business\", \"Sell your products\", \"Sell online or in person\", \"Check out customers\", \"World-class checkout\", \"Sell online\", \"Grow your business online\", \"Sell across channels\", \"Reach millions of shoppers and boost sales\", \"Sell in person\", \"Point of Sale (POS)\", \"Sell globally\", \"International sales\", \"Sell wholesale & direct\", \"Business-to-business (B2B)\", \"Accept online payments\", \"Set up forms of payment\", \"Market your business\", \"Reach & retain customers\", \"Market across social\", \"Social media integrations\", \"Chat with customers\", \"Nurture customers\", \"Know your audience\", \"Gain customer insights\", \"Manage your business\", \"Track sales, orders & analytics\", \"Measure your performance\", \"Analytics and Reporting\", \"Ship orders faster\", \"Manage your stock & orders\", \"Inventory & order management\", \"Outsource fulfillment & returns\", \"Get paid faster\", \"Secure business funding\", \"Automate your business\", \"Explore all Shopify products & features\", \"Shopify Editions\", \"New, innovative Shopify products\", \"Scale your business\", \"Essential tools\", \"Business name generator\", \"Logo maker\", \"Stock photography\", \"Business Plan Template\", \"Link in bio tool\", \"QR code generator\", \"Get 24/7 support\", \"How-to guides\", \"Read in-depth business guides\", \"Business Courses\", \"Learn from proven experts\", \"Shopify blog\", \"Business strategy tips\", \"What is Shopify?\", \"How our commerce platform works\", \"Founder Stories\", \"Build your brand from scratch\", \"Build a marketing plan\", \"Ecommerce SEO\", \"Improve your search ranking\", \"Social media strategy\", \"Turn social into sales\", \"Help and support\", \"How-to guides\", \"Read in-depth business guides\", \"Business Courses\", \"Learn from proven experts\", \"Shopify blog\", \"Business strategy tips\", \"Popular topics\", \"USA\", \"Australia\", \"Belgium\", \"Brasil\", \"Canada\", \"Colombia\", \"Danmark\", \"Deutschland\", \"España\", \"France\", \"Hong Kong SAR\", \"India\", \"Indonesia\", \"Ireland\", \"Italia\", \"Malaysia\", \"México\", \"Nederland\", \"New Zealand\", \"Nigeria\", \"Norway\", \"Philippines\", \"Singapore\", \"South Africa\", \"Sverige\", \"United Kingdom\", \"Việt Nam\", \"대한민국\", \"中国\", \"中國香港特別行政區\", \"台灣\", \"日本\"]}\n\n{\"name\": \"Build your dream business for $1/month\", \"article_main_idea\": \"Starting a business\", \"article_steps\": [\"Start your business\", \"Build your brand\", \"Create your website\", \"Customize your store\", \"Find business apps\", \"Own your site domain\", \"Explore free business tools\", \"Tools to run your business\", \"Sell your products\", \"Sell online or in person\", \"Check out customers\", \"World-class checkout\", \"Sell online\", \"Grow your business online\", \"Sell across channels\", \"Reach millions of shoppers and boost sales\", \"Sell in person\", \"Point of Sale (POS)\", \"Sell globally\", \"International sales\", \"Sell wholesale & direct\", \"Business-to-business (B2B)\", \"Accept online payments\", \"Set up forms of payment\", \"Market your business\", \"Reach & retain customers\", \"Market across social\", \"Social media integrations\", \"Chat with customers\", \"Nurture customers\", \"Know your audience\", \"Gain customer insights\", \"Manage your business\", \"Track sales, orders & analytics\", \"Measure your performance\", \"Analytics and Reporting\", \"Ship orders faster\", \"Manage your stock & orders\", \"Inventory & order management\", \"Outsource fulfillment & returns\", \"Get paid faster\", \"Secure business funding\", \"Automate your business\", \"Explore all Shopify products & features\", \"Shopify Editions\", \"New, innovative Shopify products\", \"Scale your business\", \"Essential tools\", \"Business name generator\", \"Logo maker\", \"Stock photography\", \"Business Plan Template\", \"Link in bio tool\", \"QR code generator\", \"Get 24/7 support\", \"How-to guides\", \"Read in-depth business guides\", \"Business Courses\", \"Learn from proven experts\", \"Shopify blog\", \"Business strategy tips\", \"What is Shopify?\", \"How our commerce platform works\", \"Founder Stories\", \"Build your brand from scratch\", \"Build a marketing plan\", \"Ecommerce SEO\", \"Improve your search ranking\", \"Social media strategy\", \"Turn social into sales\", \"Help and support\", \"How-to guides\", \"Read in-depth business guides\", \"Business Courses\", \"Learn from proven experts\", \"Shopify blog\", \"Business strategy tips\", \"Popular topics\", \"USA\", \"Australia\", \"Belgium\", \"Brasil\", \"Canada\", \"Colombia\", \"Danmark\", \"Deutschland\", \"España\", \"France\", \"Hong Kong SAR\", \"India\", \"Indonesia\", \"Ireland\", \"Italia\", \"Malaysia\", \"México\", \"Nederland\", \"New Zealand\", \"Nigeria\", \"Norway\", \"Philippines\", \"Singapore\", \"South Africa\", \"Sverige\", \"United Kingdom\", \"Việt Nam\", \"대한민국\", \"中国\", \"中國香港特別行政區\", \"台灣\", \"日本\"]}\n\n{\"name\": \"Start a free trial and enjoy 3 months of Shopify for $1/month on select plans\", \"article_main_idea\": \"Starting a business\", \"article_steps\": [\"Start your business\", \"Build your brand\", \"Create your website\", \"Customize your store\", \"Find business apps\", \"Own your site domain\", \"Explore free business tools\", \"Tools to run your business\", \"Sell your products\", \"Sell online or in person\", \"Check out customers\", \"World-class checkout\", \"Sell online\", \"Grow your business online\", \"Sell across channels\", \"Reach millions of shoppers and boost sales\", \"Sell in person\", \"Point of Sale (POS)\", \"Sell globally\", \"International sales\", \"Sell wholesale & direct\", \"Business-to-business (B2B)\", \"Accept online payments\", \"Set up forms of payment\", \"Market your business\", \"Reach & retain customers\", \"Market across social\", \"Social media integrations\", \"Chat with customers\", \"Nurture customers\", \"Know your audience\", \"Gain customer insights\", \"Manage your business\", \"Track sales, orders & analytics\", \"Measure your performance\", \"Analytics and Reporting\", \"Ship orders faster\", \"Manage your stock & orders\", \"Inventory & order management\", \"Outsource fulfillment & returns\", \"Get paid faster\", \"Secure business funding\", \"Automate your business\", \"Explore all Shopify products & features\", \"Shopify Editions\", \"New, innovative Shopify products\", \"Scale your business\", \"Essential tools\", \"Business name generator\", \"Logo maker\", \"Stock photography\", \"Business Plan Template\", \"Link in bio tool\", \"QR code generator\", \"Get 24/7 support\", \"How-to guides\", \"Read in-depth business guides\", \"Business Courses\", \"Learn from proven experts\", \"Shopify blog\", \"Business strategy tips\", \"What is Shopify?\", \"How our commerce platform works\", \"Founder Stories\", \"Build your brand from scratch\", \"Build a marketing plan\", \"Ecommerce SEO\", \"Improve your search ranking\", \"Social media strategy\", \"Turn social into sales\", \"Help and support\", \"How-to guides\", \"Read in-depth business guides\", \"Business Courses\", \"Learn from proven experts\", \"Shopify blog\", \"Business strategy tips\", \"Popular topics\", \"USA\", \"Australia\", \"Belgium\", \"Brasil\", \"Canada\", \"Colombia\", \"Danmark\", \"Deutschland\", \"España\", \"France\", \"Hong Kong SAR\", \"India\", \"Indonesia\", \"Ireland\", \"Italia\", \"Malaysia\", \"México\", \"Nederland\", \"New Zealand\", \"Nigeria\", \"Norway\", \"Philippines\", \"Singapore\", \"South Africa\", \"Sverige\", \"United Kingdom\", \"Việt Nam\", \"대한민국\", \"中国\", \"中國香港特別行政區\", \"台灣\", \"日本\"]}. Got: Extra data: line 3 column 1 (char 2406)"
     ]
    }
   ],
   "source": [
    "# Here's another example, but with a compound typed field.\n",
    "class ShopifyBlog(BaseModel):\n",
    "    name: str = Field(description=\"Article Title\")\n",
    "    article_steps: List[str] = Field(description=\"Extract the steps shown in the blog on How to create an ecommerce SEO strategy\")\n",
    "\n",
    "\n",
    "actor_query = map_reduce_output\n",
    "\n",
    "parser = PydanticOutputParser(pydantic_object=ShopifyBlog)\n",
    "\n",
    "prompt = PromptTemplate(\n",
    "    template=\"Answer the user query.\\n{format_instructions}\\n{query}\\n\",\n",
    "    input_variables=[\"query\"],\n",
    "    partial_variables={\"format_instructions\": parser.get_format_instructions()},\n",
    ")\n",
    "\n",
    "_input = prompt.format_prompt(query=actor_query)\n",
    "\n",
    "output = model(_input.to_string())\n",
    "\n",
    "parser.parse(output)"
   ]
  },
  {
   "cell_type": "code",
   "execution_count": null,
   "metadata": {},
   "outputs": [],
   "source": []
  }
 ],
 "metadata": {
  "kernelspec": {
   "display_name": "Python 3.11.5 ('forward_llm_env')",
   "language": "python",
   "name": "python3"
  },
  "language_info": {
   "codemirror_mode": {
    "name": "ipython",
    "version": 3
   },
   "file_extension": ".py",
   "mimetype": "text/x-python",
   "name": "python",
   "nbconvert_exporter": "python",
   "pygments_lexer": "ipython3",
   "version": "3.11.5"
  },
  "orig_nbformat": 4,
  "vscode": {
   "interpreter": {
    "hash": "654c16e3c75ada836ee7c7b622d5f3514b9ee64003b558f15ac017eb99031f28"
   }
  }
 },
 "nbformat": 4,
 "nbformat_minor": 2
}
